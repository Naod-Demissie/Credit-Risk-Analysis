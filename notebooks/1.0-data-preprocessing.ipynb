{
  "cells": [
    {
      "cell_type": "markdown",
      "metadata": {
        "id": "eTg-u2ZreI3p"
      },
      "source": [
        "# <center><font color = '#DF9166' size = 20 center> **Data Preprocessing**</font></center>\n"
      ]
    },
    {
      "cell_type": "markdown",
      "metadata": {
        "id": "uKoXPbk_eMbe"
      },
      "source": [
        "\n",
        "## <font color = '#DF9166' size=6>**Table of content**<font/><a class = 'anchor' id = 'introduction'/>"
      ]
    },
    {
      "cell_type": "markdown",
      "metadata": {
        "id": "B81Qqee7eGea"
      },
      "source": [
        "1. [**Import Libraries**](#import)\n",
        "2. [**Data Loading**](#data_loading)\n",
        "3. [**Data Inspection**](#data_inspection)\n",
        "4. [**Data Preprocessing**](#data_preprocessing)"
      ]
    },
    {
      "cell_type": "markdown",
      "metadata": {
        "id": "_RkwgtESeUG0"
      },
      "source": [
        "## <font color = '#DF9166' size=6>**Import Libraries**<font/><a class = 'anchor' id = 'import'/>\n"
      ]
    },
    {
      "cell_type": "code",
      "execution_count": 1,
      "metadata": {},
      "outputs": [],
      "source": [
        "import os\n",
        "import sys\n",
        "import numpy as np\n",
        "import pandas as pd\n",
        "import seaborn as sns\n",
        "import matplotlib.pyplot as plt\n",
        "from scipy.stats import zscore"
      ]
    },
    {
      "cell_type": "code",
      "execution_count": null,
      "metadata": {},
      "outputs": [],
      "source": [
        "import warnings\n",
        "\n",
        "warnings.filterwarnings(\"ignore\")"
      ]
    },
    {
      "cell_type": "code",
      "execution_count": 4,
      "metadata": {
        "id": "EPsSfEzvecfS"
      },
      "outputs": [],
      "source": [
        "sns.set_style(\"whitegrid\")\n",
        "pd.set_option(\"display.max_colwidth\", None)\n",
        "pd.set_option(\"display.max_columns\", None)"
      ]
    },
    {
      "cell_type": "code",
      "execution_count": 2,
      "metadata": {
        "id": "0sCONDQtbR-u"
      },
      "outputs": [],
      "source": [
        "sys.path.append(os.path.abspath(os.path.pardir))\n",
        "from scripts.preprocess_data import *"
      ]
    },
    {
      "cell_type": "markdown",
      "metadata": {
        "id": "5pPVb9_EiP9D"
      },
      "source": [
        "## <font color = '#DF9166' size=6>**Data Loading**<font/><a class = 'anchor' id = 'data_loading'/>"
      ]
    },
    {
      "cell_type": "code",
      "execution_count": 8,
      "metadata": {},
      "outputs": [],
      "source": [
        "DATA_PATH = \"../data/raw/data.csv\""
      ]
    },
    {
      "cell_type": "code",
      "execution_count": 9,
      "metadata": {},
      "outputs": [
        {
          "data": {
            "text/html": [
              "<div>\n",
              "<style scoped>\n",
              "    .dataframe tbody tr th:only-of-type {\n",
              "        vertical-align: middle;\n",
              "    }\n",
              "\n",
              "    .dataframe tbody tr th {\n",
              "        vertical-align: top;\n",
              "    }\n",
              "\n",
              "    .dataframe thead th {\n",
              "        text-align: right;\n",
              "    }\n",
              "</style>\n",
              "<table border=\"1\" class=\"dataframe\">\n",
              "  <thead>\n",
              "    <tr style=\"text-align: right;\">\n",
              "      <th></th>\n",
              "      <th>BatchId</th>\n",
              "      <th>AccountId</th>\n",
              "      <th>SubscriptionId</th>\n",
              "      <th>CustomerId</th>\n",
              "      <th>CurrencyCode</th>\n",
              "      <th>CountryCode</th>\n",
              "      <th>ProviderId</th>\n",
              "      <th>ProductId</th>\n",
              "      <th>ProductCategory</th>\n",
              "      <th>ChannelId</th>\n",
              "      <th>Amount</th>\n",
              "      <th>Value</th>\n",
              "      <th>TransactionStartTime</th>\n",
              "      <th>PricingStrategy</th>\n",
              "      <th>FraudResult</th>\n",
              "    </tr>\n",
              "    <tr>\n",
              "      <th>TransactionId</th>\n",
              "      <th></th>\n",
              "      <th></th>\n",
              "      <th></th>\n",
              "      <th></th>\n",
              "      <th></th>\n",
              "      <th></th>\n",
              "      <th></th>\n",
              "      <th></th>\n",
              "      <th></th>\n",
              "      <th></th>\n",
              "      <th></th>\n",
              "      <th></th>\n",
              "      <th></th>\n",
              "      <th></th>\n",
              "      <th></th>\n",
              "    </tr>\n",
              "  </thead>\n",
              "  <tbody>\n",
              "    <tr>\n",
              "      <th>TransactionId_76871</th>\n",
              "      <td>BatchId_36123</td>\n",
              "      <td>AccountId_3957</td>\n",
              "      <td>SubscriptionId_887</td>\n",
              "      <td>CustomerId_4406</td>\n",
              "      <td>UGX</td>\n",
              "      <td>256</td>\n",
              "      <td>ProviderId_6</td>\n",
              "      <td>ProductId_10</td>\n",
              "      <td>airtime</td>\n",
              "      <td>ChannelId_3</td>\n",
              "      <td>1000.0</td>\n",
              "      <td>1000</td>\n",
              "      <td>2018-11-15T02:18:49Z</td>\n",
              "      <td>2</td>\n",
              "      <td>0</td>\n",
              "    </tr>\n",
              "    <tr>\n",
              "      <th>TransactionId_73770</th>\n",
              "      <td>BatchId_15642</td>\n",
              "      <td>AccountId_4841</td>\n",
              "      <td>SubscriptionId_3829</td>\n",
              "      <td>CustomerId_4406</td>\n",
              "      <td>UGX</td>\n",
              "      <td>256</td>\n",
              "      <td>ProviderId_4</td>\n",
              "      <td>ProductId_6</td>\n",
              "      <td>financial_services</td>\n",
              "      <td>ChannelId_2</td>\n",
              "      <td>-20.0</td>\n",
              "      <td>20</td>\n",
              "      <td>2018-11-15T02:19:08Z</td>\n",
              "      <td>2</td>\n",
              "      <td>0</td>\n",
              "    </tr>\n",
              "  </tbody>\n",
              "</table>\n",
              "</div>"
            ],
            "text/plain": [
              "                           BatchId       AccountId       SubscriptionId  \\\n",
              "TransactionId                                                             \n",
              "TransactionId_76871  BatchId_36123  AccountId_3957   SubscriptionId_887   \n",
              "TransactionId_73770  BatchId_15642  AccountId_4841  SubscriptionId_3829   \n",
              "\n",
              "                          CustomerId CurrencyCode  CountryCode    ProviderId  \\\n",
              "TransactionId                                                                  \n",
              "TransactionId_76871  CustomerId_4406          UGX          256  ProviderId_6   \n",
              "TransactionId_73770  CustomerId_4406          UGX          256  ProviderId_4   \n",
              "\n",
              "                        ProductId     ProductCategory    ChannelId  Amount  \\\n",
              "TransactionId                                                                \n",
              "TransactionId_76871  ProductId_10             airtime  ChannelId_3  1000.0   \n",
              "TransactionId_73770   ProductId_6  financial_services  ChannelId_2   -20.0   \n",
              "\n",
              "                     Value  TransactionStartTime  PricingStrategy  FraudResult  \n",
              "TransactionId                                                                   \n",
              "TransactionId_76871   1000  2018-11-15T02:18:49Z                2            0  \n",
              "TransactionId_73770     20  2018-11-15T02:19:08Z                2            0  "
            ]
          },
          "execution_count": 9,
          "metadata": {},
          "output_type": "execute_result"
        }
      ],
      "source": [
        "df = pd.read_csv(DATA_PATH, index_col=0)\n",
        "df.head(2)"
      ]
    },
    {
      "cell_type": "markdown",
      "metadata": {},
      "source": [
        "## <font color = '#DF9166' size=6>**Data Inspection**<font/><a class = 'anchor' id = 'data_inspection'/>"
      ]
    },
    {
      "cell_type": "code",
      "execution_count": 9,
      "metadata": {
        "colab": {
          "base_uri": "https://localhost:8080/"
        },
        "id": "nLy0AWi2xoaB",
        "outputId": "ba75ed25-523a-4607-cc9e-8492e1334546"
      },
      "outputs": [
        {
          "name": "stdout",
          "output_type": "stream",
          "text": [
            "Shape of the Dataset: (95662, 16)\n"
          ]
        }
      ],
      "source": [
        "print(f\"Shape of the Dataset: {df.shape}\")"
      ]
    },
    {
      "cell_type": "code",
      "execution_count": 10,
      "metadata": {},
      "outputs": [
        {
          "name": "stdout",
          "output_type": "stream",
          "text": [
            "Dataset Info:\n",
            "\n",
            "<class 'pandas.core.frame.DataFrame'>\n",
            "RangeIndex: 95662 entries, 0 to 95661\n",
            "Data columns (total 16 columns):\n",
            " #   Column                Non-Null Count  Dtype  \n",
            "---  ------                --------------  -----  \n",
            " 0   TransactionId         95662 non-null  object \n",
            " 1   BatchId               95662 non-null  object \n",
            " 2   AccountId             95662 non-null  object \n",
            " 3   SubscriptionId        95662 non-null  object \n",
            " 4   CustomerId            95662 non-null  object \n",
            " 5   CurrencyCode          95662 non-null  object \n",
            " 6   CountryCode           95662 non-null  int64  \n",
            " 7   ProviderId            95662 non-null  object \n",
            " 8   ProductId             95662 non-null  object \n",
            " 9   ProductCategory       95662 non-null  object \n",
            " 10  ChannelId             95662 non-null  object \n",
            " 11  Amount                95662 non-null  float64\n",
            " 12  Value                 95662 non-null  int64  \n",
            " 13  TransactionStartTime  95662 non-null  object \n",
            " 14  PricingStrategy       95662 non-null  int64  \n",
            " 15  FraudResult           95662 non-null  int64  \n",
            "dtypes: float64(1), int64(4), object(11)\n",
            "memory usage: 11.7+ MB\n"
          ]
        }
      ],
      "source": [
        "print(\"Dataset Info:\\n\")\n",
        "df.info()"
      ]
    },
    {
      "cell_type": "markdown",
      "metadata": {},
      "source": [
        "- **Rows:** 95,662  \n",
        "- **Columns:** 16 (1 float64, 4 int64, 11 object)  \n",
        "- **Non-null values:** All columns are fully populated."
      ]
    },
    {
      "cell_type": "code",
      "execution_count": 12,
      "metadata": {
        "colab": {
          "base_uri": "https://localhost:8080/"
        },
        "id": "vJlyN8471ZRd",
        "outputId": "4c0c1473-d60b-4b7d-a71c-7915a0b2868a"
      },
      "outputs": [
        {
          "name": "stdout",
          "output_type": "stream",
          "text": [
            "Number of Unique Values in Each Column:\n",
            "\n",
            "______________________________________________________________________\n",
            "                                  Column Name |  Unique Values\n",
            "______________________________________________________________________\n",
            "                                TransactionId | 95662\n",
            "                                      BatchId | 94809\n",
            "                                    AccountId | 3633\n",
            "                               SubscriptionId | 3627\n",
            "                                   CustomerId | 3742\n",
            "                                 CurrencyCode | 1\n",
            "                                  CountryCode | 1\n",
            "                                   ProviderId | 6\n",
            "                                    ProductId | 23\n",
            "                              ProductCategory | 9\n",
            "                                    ChannelId | 4\n",
            "                                       Amount | 1676\n",
            "                                        Value | 1517\n",
            "                         TransactionStartTime | 94556\n",
            "                              PricingStrategy | 4\n",
            "                                  FraudResult | 2\n",
            "______________________________________________________________________\n"
          ]
        }
      ],
      "source": [
        "print(\"Number of Unique Values in Each Column:\\n\")\n",
        "print(\"_\" * 70, f\"{'Column Name':>45} |  Unique Values\", \"_\" * 70, sep=\"\\n\")\n",
        "for col in df.columns:\n",
        "    print(f\"{col:>45} | {df[col].nunique()}\")\n",
        "print(\"_\" * 70)"
      ]
    },
    {
      "cell_type": "markdown",
      "metadata": {},
      "source": [
        "- **High Uniqueness:** `TransactionId`, `BatchId`, `TransactionStartTime`.  \n",
        "- **Low Uniqueness:** `CurrencyCode`, `CountryCode` (both 1 unique value).  \n",
        "- **Limited Providers:** `ProviderId` (6 unique values).  \n",
        "- **Product Diversity:** `ProductId` (23 unique), `ProductCategory` (9 unique).  \n",
        "- **Moderate Uniqueness:** `AccountId`, `SubscriptionId`, `CustomerId`.  \n",
        "- **Fraud Detection:** `FraudResult` (2 unique values, likely binary).  \n",
        "- **Varied Transaction Sizes:** `Amount` and `Value` have many unique values."
      ]
    },
    {
      "cell_type": "code",
      "execution_count": 6,
      "metadata": {},
      "outputs": [],
      "source": [
        "categorical_columns = [\n",
        "    \"TransactionId\",\n",
        "    \"BatchId\",\n",
        "    \"AccountId\",\n",
        "    \"SubscriptionId\",\n",
        "    \"CustomerId\",\n",
        "    \"CurrencyCode\",\n",
        "    \"CountryCode\",\n",
        "    \"ProviderId\",\n",
        "    \"ProductId\",\n",
        "    \"ProductCategory\",\n",
        "    \"ChannelId\",\n",
        "    \"TransactionStartTime\",\n",
        "    \"PricingStrategy\",\n",
        "    \"FraudResult\",\n",
        "]\n",
        "\n",
        "numerical_columns = [\"Amount\", \"Value\"]"
      ]
    },
    {
      "cell_type": "code",
      "execution_count": 7,
      "metadata": {},
      "outputs": [
        {
          "name": "stdout",
          "output_type": "stream",
          "text": [
            "<class 'pandas.core.frame.DataFrame'>\n",
            "RangeIndex: 95662 entries, 0 to 95661\n",
            "Data columns (total 14 columns):\n",
            " #   Column                Non-Null Count  Dtype \n",
            "---  ------                --------------  ----- \n",
            " 0   TransactionId         95662 non-null  object\n",
            " 1   BatchId               95662 non-null  object\n",
            " 2   AccountId             95662 non-null  object\n",
            " 3   SubscriptionId        95662 non-null  object\n",
            " 4   CustomerId            95662 non-null  object\n",
            " 5   CurrencyCode          95662 non-null  object\n",
            " 6   CountryCode           95662 non-null  int64 \n",
            " 7   ProviderId            95662 non-null  object\n",
            " 8   ProductId             95662 non-null  object\n",
            " 9   ProductCategory       95662 non-null  object\n",
            " 10  ChannelId             95662 non-null  object\n",
            " 11  TransactionStartTime  95662 non-null  object\n",
            " 12  PricingStrategy       95662 non-null  int64 \n",
            " 13  FraudResult           95662 non-null  int64 \n",
            "dtypes: int64(3), object(11)\n",
            "memory usage: 10.2+ MB\n"
          ]
        }
      ],
      "source": [
        "df[categorical_columns].info()"
      ]
    },
    {
      "cell_type": "markdown",
      "metadata": {},
      "source": [
        "Some categorical columns are stored as integers (`int64`).They need to be converted to categorical types ensures appropriate analysis and processing."
      ]
    },
    {
      "cell_type": "code",
      "execution_count": 8,
      "metadata": {},
      "outputs": [],
      "source": [
        "columns_to_convert = [\"CountryCode\", \"PricingStrategy\", \"FraudResult\"]\n",
        "df[columns_to_convert] = df[columns_to_convert].astype(\"object\")"
      ]
    },
    {
      "cell_type": "code",
      "execution_count": 9,
      "metadata": {},
      "outputs": [
        {
          "name": "stdout",
          "output_type": "stream",
          "text": [
            "Missing values and their proportions (%):\n"
          ]
        },
        {
          "data": {
            "text/html": [
              "<div>\n",
              "<style scoped>\n",
              "    .dataframe tbody tr th:only-of-type {\n",
              "        vertical-align: middle;\n",
              "    }\n",
              "\n",
              "    .dataframe tbody tr th {\n",
              "        vertical-align: top;\n",
              "    }\n",
              "\n",
              "    .dataframe thead th {\n",
              "        text-align: right;\n",
              "    }\n",
              "</style>\n",
              "<table border=\"1\" class=\"dataframe\">\n",
              "  <thead>\n",
              "    <tr style=\"text-align: right;\">\n",
              "      <th></th>\n",
              "      <th>Missing Values</th>\n",
              "      <th>Proportion (%)</th>\n",
              "    </tr>\n",
              "  </thead>\n",
              "  <tbody>\n",
              "  </tbody>\n",
              "</table>\n",
              "</div>"
            ],
            "text/plain": [
              "Empty DataFrame\n",
              "Columns: [Missing Values, Proportion (%)]\n",
              "Index: []"
            ]
          },
          "execution_count": 9,
          "metadata": {},
          "output_type": "execute_result"
        }
      ],
      "source": [
        "print(\"Missing values and their proportions (%):\")\n",
        "missing_values_proportions(df)"
      ]
    },
    {
      "cell_type": "markdown",
      "metadata": {},
      "source": [
        "There is no missing values in our dataframe."
      ]
    },
    {
      "cell_type": "code",
      "execution_count": 10,
      "metadata": {},
      "outputs": [
        {
          "name": "stdout",
          "output_type": "stream",
          "text": [
            "Number of duplicate rows: 0\n"
          ]
        }
      ],
      "source": [
        "duplicate_rows = df[df.duplicated()]\n",
        "print(f\"Number of duplicate rows: {duplicate_rows.shape[0]}\")"
      ]
    },
    {
      "cell_type": "code",
      "execution_count": 11,
      "metadata": {},
      "outputs": [
        {
          "name": "stdout",
          "output_type": "stream",
          "text": [
            "Summary statistics for numerical columns:\n",
            "\n"
          ]
        },
        {
          "data": {
            "text/html": [
              "<div>\n",
              "<style scoped>\n",
              "    .dataframe tbody tr th:only-of-type {\n",
              "        vertical-align: middle;\n",
              "    }\n",
              "\n",
              "    .dataframe tbody tr th {\n",
              "        vertical-align: top;\n",
              "    }\n",
              "\n",
              "    .dataframe thead th {\n",
              "        text-align: right;\n",
              "    }\n",
              "</style>\n",
              "<table border=\"1\" class=\"dataframe\">\n",
              "  <thead>\n",
              "    <tr style=\"text-align: right;\">\n",
              "      <th></th>\n",
              "      <th>count</th>\n",
              "      <th>mean</th>\n",
              "      <th>std</th>\n",
              "      <th>min</th>\n",
              "      <th>25%</th>\n",
              "      <th>50%</th>\n",
              "      <th>75%</th>\n",
              "      <th>max</th>\n",
              "    </tr>\n",
              "  </thead>\n",
              "  <tbody>\n",
              "    <tr>\n",
              "      <th>Amount</th>\n",
              "      <td>95662.0</td>\n",
              "      <td>6717.846433</td>\n",
              "      <td>123306.797164</td>\n",
              "      <td>-1000000.0</td>\n",
              "      <td>-50.0</td>\n",
              "      <td>1000.0</td>\n",
              "      <td>2800.0</td>\n",
              "      <td>9880000.0</td>\n",
              "    </tr>\n",
              "    <tr>\n",
              "      <th>Value</th>\n",
              "      <td>95662.0</td>\n",
              "      <td>9900.583941</td>\n",
              "      <td>123122.087776</td>\n",
              "      <td>2.0</td>\n",
              "      <td>275.0</td>\n",
              "      <td>1000.0</td>\n",
              "      <td>5000.0</td>\n",
              "      <td>9880000.0</td>\n",
              "    </tr>\n",
              "  </tbody>\n",
              "</table>\n",
              "</div>"
            ],
            "text/plain": [
              "          count         mean            std        min    25%     50%     75%  \\\n",
              "Amount  95662.0  6717.846433  123306.797164 -1000000.0  -50.0  1000.0  2800.0   \n",
              "Value   95662.0  9900.583941  123122.087776        2.0  275.0  1000.0  5000.0   \n",
              "\n",
              "              max  \n",
              "Amount  9880000.0  \n",
              "Value   9880000.0  "
            ]
          },
          "execution_count": 11,
          "metadata": {},
          "output_type": "execute_result"
        }
      ],
      "source": [
        "print(\"Summary statistics for numerical columns:\\n\")\n",
        "df[numerical_columns].describe().transpose()"
      ]
    },
    {
      "cell_type": "markdown",
      "metadata": {},
      "source": [
        "- **Amount:** High variability with large transactions and negative values (refunds or errors).  \n",
        "- **Value:** Wide range, with small and large transactions; median around 1,000 suggests mid-range dominance."
      ]
    },
    {
      "cell_type": "code",
      "execution_count": 12,
      "metadata": {},
      "outputs": [
        {
          "name": "stdout",
          "output_type": "stream",
          "text": [
            "Summary statistics for categorical columns:\n",
            "\n"
          ]
        },
        {
          "data": {
            "text/html": [
              "<div>\n",
              "<style scoped>\n",
              "    .dataframe tbody tr th:only-of-type {\n",
              "        vertical-align: middle;\n",
              "    }\n",
              "\n",
              "    .dataframe tbody tr th {\n",
              "        vertical-align: top;\n",
              "    }\n",
              "\n",
              "    .dataframe thead th {\n",
              "        text-align: right;\n",
              "    }\n",
              "</style>\n",
              "<table border=\"1\" class=\"dataframe\">\n",
              "  <thead>\n",
              "    <tr style=\"text-align: right;\">\n",
              "      <th></th>\n",
              "      <th>count</th>\n",
              "      <th>unique</th>\n",
              "      <th>top</th>\n",
              "      <th>freq</th>\n",
              "    </tr>\n",
              "  </thead>\n",
              "  <tbody>\n",
              "    <tr>\n",
              "      <th>TransactionId</th>\n",
              "      <td>95662</td>\n",
              "      <td>95662</td>\n",
              "      <td>TransactionId_35670</td>\n",
              "      <td>1</td>\n",
              "    </tr>\n",
              "    <tr>\n",
              "      <th>BatchId</th>\n",
              "      <td>95662</td>\n",
              "      <td>94809</td>\n",
              "      <td>BatchId_67019</td>\n",
              "      <td>28</td>\n",
              "    </tr>\n",
              "    <tr>\n",
              "      <th>AccountId</th>\n",
              "      <td>95662</td>\n",
              "      <td>3633</td>\n",
              "      <td>AccountId_4841</td>\n",
              "      <td>30893</td>\n",
              "    </tr>\n",
              "    <tr>\n",
              "      <th>SubscriptionId</th>\n",
              "      <td>95662</td>\n",
              "      <td>3627</td>\n",
              "      <td>SubscriptionId_3829</td>\n",
              "      <td>32630</td>\n",
              "    </tr>\n",
              "    <tr>\n",
              "      <th>CustomerId</th>\n",
              "      <td>95662</td>\n",
              "      <td>3742</td>\n",
              "      <td>CustomerId_7343</td>\n",
              "      <td>4091</td>\n",
              "    </tr>\n",
              "    <tr>\n",
              "      <th>CurrencyCode</th>\n",
              "      <td>95662</td>\n",
              "      <td>1</td>\n",
              "      <td>UGX</td>\n",
              "      <td>95662</td>\n",
              "    </tr>\n",
              "    <tr>\n",
              "      <th>CountryCode</th>\n",
              "      <td>95662</td>\n",
              "      <td>1</td>\n",
              "      <td>256</td>\n",
              "      <td>95662</td>\n",
              "    </tr>\n",
              "    <tr>\n",
              "      <th>ProviderId</th>\n",
              "      <td>95662</td>\n",
              "      <td>6</td>\n",
              "      <td>ProviderId_4</td>\n",
              "      <td>38189</td>\n",
              "    </tr>\n",
              "    <tr>\n",
              "      <th>ProductId</th>\n",
              "      <td>95662</td>\n",
              "      <td>23</td>\n",
              "      <td>ProductId_6</td>\n",
              "      <td>32635</td>\n",
              "    </tr>\n",
              "    <tr>\n",
              "      <th>ProductCategory</th>\n",
              "      <td>95662</td>\n",
              "      <td>9</td>\n",
              "      <td>financial_services</td>\n",
              "      <td>45405</td>\n",
              "    </tr>\n",
              "    <tr>\n",
              "      <th>ChannelId</th>\n",
              "      <td>95662</td>\n",
              "      <td>4</td>\n",
              "      <td>ChannelId_3</td>\n",
              "      <td>56935</td>\n",
              "    </tr>\n",
              "    <tr>\n",
              "      <th>TransactionStartTime</th>\n",
              "      <td>95662</td>\n",
              "      <td>94556</td>\n",
              "      <td>2018-12-24T16:30:13Z</td>\n",
              "      <td>17</td>\n",
              "    </tr>\n",
              "    <tr>\n",
              "      <th>PricingStrategy</th>\n",
              "      <td>95662</td>\n",
              "      <td>4</td>\n",
              "      <td>2</td>\n",
              "      <td>79848</td>\n",
              "    </tr>\n",
              "    <tr>\n",
              "      <th>FraudResult</th>\n",
              "      <td>95662</td>\n",
              "      <td>2</td>\n",
              "      <td>0</td>\n",
              "      <td>95469</td>\n",
              "    </tr>\n",
              "  </tbody>\n",
              "</table>\n",
              "</div>"
            ],
            "text/plain": [
              "                      count unique                   top   freq\n",
              "TransactionId         95662  95662   TransactionId_35670      1\n",
              "BatchId               95662  94809         BatchId_67019     28\n",
              "AccountId             95662   3633        AccountId_4841  30893\n",
              "SubscriptionId        95662   3627   SubscriptionId_3829  32630\n",
              "CustomerId            95662   3742       CustomerId_7343   4091\n",
              "CurrencyCode          95662      1                   UGX  95662\n",
              "CountryCode           95662      1                   256  95662\n",
              "ProviderId            95662      6          ProviderId_4  38189\n",
              "ProductId             95662     23           ProductId_6  32635\n",
              "ProductCategory       95662      9    financial_services  45405\n",
              "ChannelId             95662      4           ChannelId_3  56935\n",
              "TransactionStartTime  95662  94556  2018-12-24T16:30:13Z     17\n",
              "PricingStrategy       95662      4                     2  79848\n",
              "FraudResult           95662      2                     0  95469"
            ]
          },
          "execution_count": 12,
          "metadata": {},
          "output_type": "execute_result"
        }
      ],
      "source": [
        "print(\"Summary statistics for categorical columns:\\n\")\n",
        "df[categorical_columns].describe(include=[\"object\"]).transpose()"
      ]
    },
    {
      "cell_type": "markdown",
      "metadata": {},
      "source": [
        "- **High Uniqueness:** Most columns (e.g., `TransactionId`, `BatchId`, `TransactionStartTime`) have unique or near-unique values, indicating individualized transactions.\n",
        "- **Dominant Values:**  \n",
        "  - `CurrencyCode` and `CountryCode` are uniform (UGX, 256), suggesting all transactions are from a single country and currency.\n",
        "  - `ProviderId`, `ProductCategory`, and `ChannelId` have clear leaders, with some values (e.g., `ProviderId_4`, `ChannelId_3`) being significantly more frequent.\n",
        "- **Customer & Product Focus:**  \n",
        "  - Some customers (`AccountId_4841`, `SubscriptionId_3829`) have a very high transaction count, hinting at key customer segments.  \n",
        "  - `ProductCategory` is heavily skewed towards **financial_services**.\n",
        "- **Fraud Detection:** The majority of transactions have a `FraudResult` of 0, indicating most are non-fraudulent."
      ]
    },
    {
      "cell_type": "markdown",
      "metadata": {},
      "source": [
        "## <font color = '#DF9166' size=6>**Data Preprocessing**<font/><a class = 'anchor' id = 'data_preprocessing'/>"
      ]
    },
    {
      "cell_type": "markdown",
      "metadata": {},
      "source": [
        "### Handling Outliers"
      ]
    },
    {
      "cell_type": "code",
      "execution_count": 13,
      "metadata": {},
      "outputs": [
        {
          "data": {
            "image/png": "[encoded data removed]",
            "text/plain": [
              "<Figure size 550x250 with 1 Axes>"
            ]
          },
          "metadata": {},
          "output_type": "display_data"
        }
      ],
      "source": [
        "# Detect Outliers Using Boxplots\n",
        "plt.figure(figsize=(5.5, 2.5))\n",
        "df[numerical_columns].boxplot(vert=False)\n",
        "plt.title(\"Boxplot for Numerical Columns (Before Outlier Handling)\")\n",
        "plt.ylabel(\"Columns\")\n",
        "plt.show()"
      ]
    },
    {
      "cell_type": "code",
      "execution_count": 14,
      "metadata": {},
      "outputs": [],
      "source": [
        "# Replace outliers with boundaries for all numerical columns\n",
        "df = handle_outliers(df, numerical_columns, plot_box=False, replace_with=\"mean\")"
      ]
    },
    {
      "cell_type": "code",
      "execution_count": 15,
      "metadata": {},
      "outputs": [
        {
          "data": {
            "image/png": "[encoded data removed]",
            "text/plain": [
              "<Figure size 550x250 with 1 Axes>"
            ]
          },
          "metadata": {},
          "output_type": "display_data"
        }
      ],
      "source": [
        "# Detect Outliers Using Boxplots\n",
        "plt.figure(figsize=(5.5, 2.5))\n",
        "df[numerical_columns].boxplot(vert=False)\n",
        "plt.title(\"Boxplot for Numerical Columns (After Outlier Handling)\")\n",
        "plt.ylabel(\"Columns\")\n",
        "plt.show()"
      ]
    },
    {
      "cell_type": "code",
      "execution_count": 16,
      "metadata": {},
      "outputs": [
        {
          "name": "stdout",
          "output_type": "stream",
          "text": [
            "\n",
            "Columns with Potential Outliers After Z-Score Analysis:\n",
            "\n",
            "                                       Amount: 0 potential outliers\n",
            "                                        Value: 0 potential outliers\n"
          ]
        }
      ],
      "source": [
        "# Check for remaining outliers using Z-Score\n",
        "print(\"\\nColumns with Potential Outliers After Z-Score Analysis:\\n\")\n",
        "for col in numerical_columns:\n",
        "    z_scores = zscore(df[col])\n",
        "    outliers = (np.abs(z_scores) > 3).sum()\n",
        "    print(f\"{col:>45}: {outliers} potential outliers\")"
      ]
    },
    {
      "cell_type": "code",
      "execution_count": 17,
      "metadata": {},
      "outputs": [],
      "source": [
        "df.to_csv(\"../data/processed/cleaned_data.csv\")"
      ]
    }
  ],
  "metadata": {
    "colab": {
      "provenance": []
    },
    "kernelspec": {
      "display_name": "w5-env",
      "language": "python",
      "name": "python3"
    },
    "language_info": {
      "codemirror_mode": {
        "name": "ipython",
        "version": 3
      },
      "file_extension": ".py",
      "mimetype": "text/x-python",
      "name": "python",
      "nbconvert_exporter": "python",
      "pygments_lexer": "ipython3",
      "version": "3.10.16"
    }
  },
  "nbformat": 4,
  "nbformat_minor": 0
}
