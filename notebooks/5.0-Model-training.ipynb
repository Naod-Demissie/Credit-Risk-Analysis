{
  "cells": [
    {
      "cell_type": "markdown",
      "metadata": {
        "id": "eTg-u2ZreI3p"
      },
      "source": [
        "# <center><font color = '#DF9166' size = 20 center> **Modeling**</font></center>\n"
      ]
    },
    {
      "cell_type": "markdown",
      "metadata": {
        "id": "uKoXPbk_eMbe"
      },
      "source": [
        "\n",
        "## <font color = '#DF9166' size=6>**Table of content**<font/><a class = 'anchor' id = 'introduction'/>"
      ]
    },
    {
      "cell_type": "markdown",
      "metadata": {
        "id": "B81Qqee7eGea"
      },
      "source": [
        "1. [**Import Libraries**](#import)\n",
        "2. [**Modeling**](#modeling)\n"
      ]
    },
    {
      "cell_type": "markdown",
      "metadata": {
        "id": "_RkwgtESeUG0"
      },
      "source": [
        "## <font color = '#DF9166' size=6>**Import Libraries**<font/><a class = 'anchor' id = 'import'/>\n"
      ]
    },
    {
      "cell_type": "code",
      "execution_count": null,
      "metadata": {
        "id": "KMCtqdRn2fgu"
      },
      "outputs": [],
      "source": [
        "import os\n",
        "import sys\n",
        "import pandas as pd"
      ]
    },
    {
      "cell_type": "code",
      "execution_count": null,
      "metadata": {
        "id": "inL9H16Z2fgw"
      },
      "outputs": [],
      "source": [
        "import warnings\n",
        "\n",
        "warnings.filterwarnings(\"ignore\")"
      ]
    },
    {
      "cell_type": "code",
      "execution_count": null,
      "metadata": {
        "id": "EPsSfEzvecfS"
      },
      "outputs": [],
      "source": [
        "pd.set_option(\"display.max_colwidth\", None)\n",
        "pd.set_option(\"display.max_columns\", None)"
      ]
    },
    {
      "cell_type": "code",
      "execution_count": null,
      "metadata": {
        "id": "0sCONDQtbR-u"
      },
      "outputs": [],
      "source": [
        "# # sys.path.append(os.path.abspath(os.path.pardir))\n",
        "# from scripts.eda.transaction_analysis import TransactionAnalysis"
      ]
    },
    {
      "cell_type": "code",
      "source": [
        "from google.colab import drive\n",
        "drive.mount('/content/drive')"
      ],
      "metadata": {
        "id": "DUsUuOzN2vs2",
        "colab": {
          "base_uri": "https://localhost:8080/"
        },
        "outputId": "10cfbe45-ffe0-40c6-a7f2-8fba81159592"
      },
      "execution_count": 1,
      "outputs": [
        {
          "output_type": "stream",
          "name": "stdout",
          "text": [
            "Mounted at /content/drive\n"
          ]
        }
      ]
    },
    {
      "cell_type": "markdown",
      "metadata": {
        "id": "yhuRspF82fg1"
      },
      "source": [
        "## <font color = '#DF9166' size=6>**Modeling**<font/><a class = 'anchor' id = 'modeling'/>"
      ]
    },
    {
      "cell_type": "code",
      "execution_count": 8,
      "metadata": {
        "id": "9uJn5PSS2fg2"
      },
      "outputs": [],
      "source": [
        "import numpy as np\n",
        "import pandas as pd\n",
        "import pickle\n",
        "from sklearn.model_selection import train_test_split, GridSearchCV, RandomizedSearchCV\n",
        "from sklearn.metrics import accuracy_score, precision_score, recall_score, f1_score, roc_auc_score\n",
        "from sklearn.linear_model import LogisticRegression\n",
        "from sklearn.tree import DecisionTreeClassifier\n",
        "from sklearn.ensemble import RandomForestClassifier, GradientBoostingClassifier\n",
        "\n",
        "class ModelTrainer:\n",
        "    def __init__(self, x_path, y_path, test_size=0.2, random_state=42):\n",
        "        \"\"\"\n",
        "        Initializes the ModelTrainer class by loading the data and splitting it into training and test sets.\n",
        "        \"\"\"\n",
        "        self.x = np.load(x_path)\n",
        "        self.y = np.load(y_path)\n",
        "        self.test_size = test_size\n",
        "        self.random_state = random_state\n",
        "        self.models = {\n",
        "            \"Logistic Regression\": LogisticRegression(),\n",
        "            \"Decision Tree\": DecisionTreeClassifier(),\n",
        "            \"Random Forest\": RandomForestClassifier(),\n",
        "            \"Gradient Boosting\": GradientBoostingClassifier()\n",
        "        }\n",
        "        self.x_train, self.x_test, self.y_train, self.y_test = train_test_split(\n",
        "            self.x, self.y, test_size=self.test_size, random_state=self.random_state\n",
        "        )\n",
        "        self.trained_models = {}\n",
        "        self.best_model = None\n",
        "\n",
        "    def train_models(self):\n",
        "        \"\"\"Trains each model on the training dataset.\"\"\"\n",
        "        for name, model in self.models.items():\n",
        "            model.fit(self.x_train, self.y_train)\n",
        "            self.trained_models[name] = model\n",
        "            print(f\"Trained {name} model successfully.\")\n",
        "\n",
        "    def hyperparameter_tuning(self, model_name, param_grid, search_type='grid', n_iter=10):\n",
        "        \"\"\"\n",
        "        Performs hyperparameter tuning using Grid Search or Random Search.\n",
        "        \"\"\"\n",
        "        if model_name not in self.models:\n",
        "            raise ValueError(\"Model not found. Choose from: \" + \", \".join(self.models.keys()))\n",
        "\n",
        "        model = self.models[model_name]\n",
        "\n",
        "        if search_type == 'grid':\n",
        "            search = GridSearchCV(model, param_grid, cv=5, scoring='accuracy', n_jobs=-1)\n",
        "        elif search_type == 'random':\n",
        "            search = RandomizedSearchCV(model, param_grid, n_iter=n_iter, cv=5, scoring='accuracy', n_jobs=-1, random_state=self.random_state)\n",
        "        else:\n",
        "            raise ValueError(\"Invalid search type. Use 'grid' or 'random'.\")\n",
        "\n",
        "        search.fit(self.x_train, self.y_train)\n",
        "        self.trained_models[model_name] = search.best_estimator_\n",
        "        self.best_model = search.best_estimator_\n",
        "        print(f\"Best parameters for {model_name}: {search.best_params_}\")\n",
        "\n",
        "    def train_best_model(self):\n",
        "        \"\"\"Trains the best model obtained from hyperparameter tuning on the full training dataset.\"\"\"\n",
        "        if self.best_model is None:\n",
        "            print(\"No best model found. Perform hyperparameter tuning first.\")\n",
        "            return\n",
        "\n",
        "        self.best_model.fit(self.x_train, self.y_train)\n",
        "        print(\"Best model trained successfully.\")\n",
        "\n",
        "    def evaluate_models(self):\n",
        "        \"\"\"Evaluates all trained models using the test dataset and prints performance metrics.\"\"\"\n",
        "        results = []\n",
        "        for name, model in self.trained_models.items():\n",
        "            y_pred = model.predict(self.x_test)\n",
        "            y_prob = model.predict_proba(self.x_test)[:, 1] if hasattr(model, \"predict_proba\") else None\n",
        "\n",
        "            accuracy = accuracy_score(self.y_test, y_pred)\n",
        "            precision = precision_score(self.y_test, y_pred, average='binary', zero_division=1)\n",
        "            recall = recall_score(self.y_test, y_pred, average='binary', zero_division=1)\n",
        "            f1 = f1_score(self.y_test, y_pred, average='binary')\n",
        "            roc_auc = roc_auc_score(self.y_test, y_prob) if y_prob is not None else 'N/A'\n",
        "\n",
        "            results.append({\n",
        "                \"Model\": name,\n",
        "                \"Accuracy\": accuracy,\n",
        "                \"Precision\": precision,\n",
        "                \"Recall\": recall,\n",
        "                \"F1 Score\": f1,\n",
        "                \"ROC-AUC\": roc_auc\n",
        "            })\n",
        "\n",
        "            print(f\"\\n{name} Performance:\")\n",
        "            print(f\"Accuracy: {accuracy:.4f}\")\n",
        "            print(f\"Precision: {precision:.4f}\")\n",
        "            print(f\"Recall: {recall:.4f}\")\n",
        "            print(f\"F1 Score: {f1:.4f}\")\n",
        "            print(f\"ROC-AUC: {roc_auc}\")\n",
        "\n",
        "        return pd.DataFrame(results)\n",
        "\n",
        "    def save_best_model(self, filename=\"best_model.pkl\"):\n",
        "        \"\"\"Serializes the best model and saves it to a file.\"\"\"\n",
        "        if self.best_model is None:\n",
        "            print(\"No best model found. Perform hyperparameter tuning first.\")\n",
        "            return\n",
        "\n",
        "        with open(filename, \"wb\") as file:\n",
        "            pickle.dump(self.best_model, file)\n",
        "        print(f\"Best model saved as {filename}.\")\n",
        "\n",
        "# Example usage:\n",
        "# trainer = ModelTrainer(\"x.npy\", \"y.npy\")\n",
        "# trainer.train_models()\n",
        "# param_grid = {'n_estimators': [50, 100, 200], 'max_depth': [3, 5, 10]}\n",
        "# trainer.hyperparameter_tuning(\"Random Forest\", param_grid, search_type='grid')\n",
        "# trainer.train_best_model()\n",
        "# trainer.evaluate_models()\n"
      ]
    },
    {
      "cell_type": "code",
      "execution_count": 9,
      "metadata": {
        "id": "VWSHF10l2fg5"
      },
      "outputs": [],
      "source": [
        "# Initialize  class\n",
        "trainer = ModelTrainer(\"/content/drive/MyDrive/10 acadamy/W6 Challenge/data/processed/X_features.npy\", \"/content/drive/MyDrive/10 acadamy/W6 Challenge/data/processed/y_labels.npy\")"
      ]
    },
    {
      "cell_type": "code",
      "source": [
        "param_grid = {'n_estimators': [50, 100, 200], 'max_depth': [3, 5, 10]}\n",
        "trainer.hyperparameter_tuning(\"Random Forest\", param_grid, search_type='grid')"
      ],
      "metadata": {
        "colab": {
          "base_uri": "https://localhost:8080/"
        },
        "id": "FTJ1ibJ3V8YR",
        "outputId": "c275781d-fbbe-433d-f76c-0b1914341366"
      },
      "execution_count": 10,
      "outputs": [
        {
          "output_type": "stream",
          "name": "stdout",
          "text": [
            "Best parameters for Random Forest: {'max_depth': 10, 'n_estimators': 200}\n"
          ]
        }
      ]
    },
    {
      "cell_type": "code",
      "source": [
        "trainer.train_best_model()"
      ],
      "metadata": {
        "colab": {
          "base_uri": "https://localhost:8080/"
        },
        "id": "pHCLIbmNV_sr",
        "outputId": "70fd43d3-f1e6-45c9-e2a2-7bb1b30516f2"
      },
      "execution_count": 12,
      "outputs": [
        {
          "output_type": "stream",
          "name": "stdout",
          "text": [
            "Best model trained successfully.\n"
          ]
        }
      ]
    },
    {
      "cell_type": "code",
      "source": [
        "trainer.evaluate_models()"
      ],
      "metadata": {
        "colab": {
          "base_uri": "https://localhost:8080/",
          "height": 202
        },
        "id": "VEjy1KX7WBuP",
        "outputId": "f7345b68-1356-4677-af0b-11710bf0b15a"
      },
      "execution_count": 13,
      "outputs": [
        {
          "output_type": "stream",
          "name": "stdout",
          "text": [
            "\n",
            "Random Forest Performance:\n",
            "Accuracy: 0.9981\n",
            "Precision: 1.0000\n",
            "Recall: 0.0000\n",
            "F1 Score: 0.0000\n",
            "ROC-AUC: 0.9971148755185515\n"
          ]
        },
        {
          "output_type": "execute_result",
          "data": {
            "text/plain": [
              "           Model  Accuracy  Precision  Recall  F1 Score   ROC-AUC\n",
              "0  Random Forest  0.998118        1.0     0.0       0.0  0.997115"
            ],
            "text/html": [
              "\n",
              "  <div id=\"df-ac3b2199-44ad-4a95-a0d2-05f094e7e5d2\" class=\"colab-df-container\">\n",
              "    <div>\n",
              "<style scoped>\n",
              "    .dataframe tbody tr th:only-of-type {\n",
              "        vertical-align: middle;\n",
              "    }\n",
              "\n",
              "    .dataframe tbody tr th {\n",
              "        vertical-align: top;\n",
              "    }\n",
              "\n",
              "    .dataframe thead th {\n",
              "        text-align: right;\n",
              "    }\n",
              "</style>\n",
              "<table border=\"1\" class=\"dataframe\">\n",
              "  <thead>\n",
              "    <tr style=\"text-align: right;\">\n",
              "      <th></th>\n",
              "      <th>Model</th>\n",
              "      <th>Accuracy</th>\n",
              "      <th>Precision</th>\n",
              "      <th>Recall</th>\n",
              "      <th>F1 Score</th>\n",
              "      <th>ROC-AUC</th>\n",
              "    </tr>\n",
              "  </thead>\n",
              "  <tbody>\n",
              "    <tr>\n",
              "      <th>0</th>\n",
              "      <td>Random Forest</td>\n",
              "      <td>0.998118</td>\n",
              "      <td>1.0</td>\n",
              "      <td>0.0</td>\n",
              "      <td>0.0</td>\n",
              "      <td>0.997115</td>\n",
              "    </tr>\n",
              "  </tbody>\n",
              "</table>\n",
              "</div>\n",
              "    <div class=\"colab-df-buttons\">\n",
              "\n",
              "  <div class=\"colab-df-container\">\n",
              "    <button class=\"colab-df-convert\" onclick=\"convertToInteractive('df-ac3b2199-44ad-4a95-a0d2-05f094e7e5d2')\"\n",
              "            title=\"Convert this dataframe to an interactive table.\"\n",
              "            style=\"display:none;\">\n",
              "\n",
              "  <svg xmlns=\"http://www.w3.org/2000/svg\" height=\"24px\" viewBox=\"0 -960 960 960\">\n",
              "    <path d=\"M120-120v-720h720v720H120Zm60-500h600v-160H180v160Zm220 220h160v-160H400v160Zm0 220h160v-160H400v160ZM180-400h160v-160H180v160Zm440 0h160v-160H620v160ZM180-180h160v-160H180v160Zm440 0h160v-160H620v160Z\"/>\n",
              "  </svg>\n",
              "    </button>\n",
              "\n",
              "  <style>\n",
              "    .colab-df-container {\n",
              "      display:flex;\n",
              "      gap: 12px;\n",
              "    }\n",
              "\n",
              "    .colab-df-convert {\n",
              "      background-color: #E8F0FE;\n",
              "      border: none;\n",
              "      border-radius: 50%;\n",
              "      cursor: pointer;\n",
              "      display: none;\n",
              "      fill: #1967D2;\n",
              "      height: 32px;\n",
              "      padding: 0 0 0 0;\n",
              "      width: 32px;\n",
              "    }\n",
              "\n",
              "    .colab-df-convert:hover {\n",
              "      background-color: #E2EBFA;\n",
              "      box-shadow: 0px 1px 2px rgba(60, 64, 67, 0.3), 0px 1px 3px 1px rgba(60, 64, 67, 0.15);\n",
              "      fill: #174EA6;\n",
              "    }\n",
              "\n",
              "    .colab-df-buttons div {\n",
              "      margin-bottom: 4px;\n",
              "    }\n",
              "\n",
              "    [theme=dark] .colab-df-convert {\n",
              "      background-color: #3B4455;\n",
              "      fill: #D2E3FC;\n",
              "    }\n",
              "\n",
              "    [theme=dark] .colab-df-convert:hover {\n",
              "      background-color: #434B5C;\n",
              "      box-shadow: 0px 1px 3px 1px rgba(0, 0, 0, 0.15);\n",
              "      filter: drop-shadow(0px 1px 2px rgba(0, 0, 0, 0.3));\n",
              "      fill: #FFFFFF;\n",
              "    }\n",
              "  </style>\n",
              "\n",
              "    <script>\n",
              "      const buttonEl =\n",
              "        document.querySelector('#df-ac3b2199-44ad-4a95-a0d2-05f094e7e5d2 button.colab-df-convert');\n",
              "      buttonEl.style.display =\n",
              "        google.colab.kernel.accessAllowed ? 'block' : 'none';\n",
              "\n",
              "      async function convertToInteractive(key) {\n",
              "        const element = document.querySelector('#df-ac3b2199-44ad-4a95-a0d2-05f094e7e5d2');\n",
              "        const dataTable =\n",
              "          await google.colab.kernel.invokeFunction('convertToInteractive',\n",
              "                                                    [key], {});\n",
              "        if (!dataTable) return;\n",
              "\n",
              "        const docLinkHtml = 'Like what you see? Visit the ' +\n",
              "          '<a target=\"_blank\" href=https://colab.research.google.com/notebooks/data_table.ipynb>data table notebook</a>'\n",
              "          + ' to learn more about interactive tables.';\n",
              "        element.innerHTML = '';\n",
              "        dataTable['output_type'] = 'display_data';\n",
              "        await google.colab.output.renderOutput(dataTable, element);\n",
              "        const docLink = document.createElement('div');\n",
              "        docLink.innerHTML = docLinkHtml;\n",
              "        element.appendChild(docLink);\n",
              "      }\n",
              "    </script>\n",
              "  </div>\n",
              "\n",
              "\n",
              "    </div>\n",
              "  </div>\n"
            ],
            "application/vnd.google.colaboratory.intrinsic+json": {
              "type": "dataframe",
              "summary": "{\n  \"name\": \"trainer\",\n  \"rows\": 1,\n  \"fields\": [\n    {\n      \"column\": \"Model\",\n      \"properties\": {\n        \"dtype\": \"string\",\n        \"num_unique_values\": 1,\n        \"samples\": [\n          \"Random Forest\"\n        ],\n        \"semantic_type\": \"\",\n        \"description\": \"\"\n      }\n    },\n    {\n      \"column\": \"Accuracy\",\n      \"properties\": {\n        \"dtype\": \"number\",\n        \"std\": null,\n        \"min\": 0.9981184341190613,\n        \"max\": 0.9981184341190613,\n        \"num_unique_values\": 1,\n        \"samples\": [\n          0.9981184341190613\n        ],\n        \"semantic_type\": \"\",\n        \"description\": \"\"\n      }\n    },\n    {\n      \"column\": \"Precision\",\n      \"properties\": {\n        \"dtype\": \"number\",\n        \"std\": null,\n        \"min\": 1.0,\n        \"max\": 1.0,\n        \"num_unique_values\": 1,\n        \"samples\": [\n          1.0\n        ],\n        \"semantic_type\": \"\",\n        \"description\": \"\"\n      }\n    },\n    {\n      \"column\": \"Recall\",\n      \"properties\": {\n        \"dtype\": \"number\",\n        \"std\": null,\n        \"min\": 0.0,\n        \"max\": 0.0,\n        \"num_unique_values\": 1,\n        \"samples\": [\n          0.0\n        ],\n        \"semantic_type\": \"\",\n        \"description\": \"\"\n      }\n    },\n    {\n      \"column\": \"F1 Score\",\n      \"properties\": {\n        \"dtype\": \"number\",\n        \"std\": null,\n        \"min\": 0.0,\n        \"max\": 0.0,\n        \"num_unique_values\": 1,\n        \"samples\": [\n          0.0\n        ],\n        \"semantic_type\": \"\",\n        \"description\": \"\"\n      }\n    },\n    {\n      \"column\": \"ROC-AUC\",\n      \"properties\": {\n        \"dtype\": \"number\",\n        \"std\": null,\n        \"min\": 0.9971148755185515,\n        \"max\": 0.9971148755185515,\n        \"num_unique_values\": 1,\n        \"samples\": [\n          0.9971148755185515\n        ],\n        \"semantic_type\": \"\",\n        \"description\": \"\"\n      }\n    }\n  ]\n}"
            }
          },
          "metadata": {},
          "execution_count": 13
        }
      ]
    },
    {
      "cell_type": "code",
      "source": [
        "trainer.save_best_model('/content/drive/MyDrive/10 acadamy/W6 Challenge/checkpoints/best_model.pkl')"
      ],
      "metadata": {
        "colab": {
          "base_uri": "https://localhost:8080/"
        },
        "id": "V62csqY6V1Ml",
        "outputId": "66228e09-9330-42e8-b6e5-f7ba18b39941"
      },
      "execution_count": 14,
      "outputs": [
        {
          "output_type": "stream",
          "name": "stdout",
          "text": [
            "Best model saved as /content/drive/MyDrive/10 acadamy/W6 Challenge/checkpoints/best_model.pkl.\n"
          ]
        }
      ]
    }
  ],
  "metadata": {
    "colab": {
      "provenance": [],
      "collapsed_sections": [
        "uKoXPbk_eMbe"
      ]
    },
    "kernelspec": {
      "display_name": "w5-env",
      "language": "python",
      "name": "python3"
    },
    "language_info": {
      "codemirror_mode": {
        "name": "ipython",
        "version": 3
      },
      "file_extension": ".py",
      "mimetype": "text/x-python",
      "name": "python",
      "nbconvert_exporter": "python",
      "pygments_lexer": "ipython3",
      "version": "3.10.16"
    }
  },
  "nbformat": 4,
  "nbformat_minor": 0
}